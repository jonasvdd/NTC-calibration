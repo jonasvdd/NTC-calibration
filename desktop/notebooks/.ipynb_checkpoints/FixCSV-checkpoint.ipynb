{
 "cells": [
  {
   "cell_type": "markdown",
   "metadata": {},
   "source": [
    "# Fixing the CSVs"
   ]
  },
  {
   "cell_type": "code",
   "execution_count": 8,
   "metadata": {},
   "outputs": [],
   "source": [
    "import os\n",
    "import re\n",
    "\n",
    "import numpy as np\n",
    "import pandas as pd"
   ]
  },
  {
   "cell_type": "code",
   "execution_count": 24,
   "metadata": {},
   "outputs": [
    {
     "name": "stdout",
     "output_type": "stream",
     "text": [
      "parsing: csv_2018-11-20_11-18.csv\n",
      "parsing: csv_2018-11-27_11-02.csv\n",
      "parsing: csv_2018-11-27_10-35.csv\n"
     ]
    }
   ],
   "source": [
    "regex_str = r\"([-]?\\d+.\\d+[e+?-?]?.\\d+|[-]?\\d+.\\d+)\"\n",
    "columns = ['RNTC', 'Tprobe', 'Tcalc', 'A', 'B', 'C', 'T1', 'R1', 'T2', 'R2', 'T3', 'R3']\n",
    "\n",
    "def parseFile(file_path):\n",
    "    data = []\n",
    "    with open(file_path) as f:\n",
    "        data = f.readlines()    \n",
    "        data = [np.array(re.findall(regex_str, row), dtype=float) for row in data]      \n",
    "        df = pd.DataFrame(data, columns=columns)\n",
    "    return df\n",
    "    \n",
    "for filename in os.listdir('../data/'):\n",
    "    if filename.endswith('.csv'):\n",
    "        print(\"parsing:\", filename)\n",
    "        df = parseFile('../data/' + filename)\n",
    "        df.to_csv('../data/rev_' + filename)"
   ]
  }
 ],
 "metadata": {
  "kernelspec": {
   "display_name": "Python 3",
   "language": "python",
   "name": "python3"
  },
  "language_info": {
   "codemirror_mode": {
    "name": "ipython",
    "version": 3
   },
   "file_extension": ".py",
   "mimetype": "text/x-python",
   "name": "python",
   "nbconvert_exporter": "python",
   "pygments_lexer": "ipython3",
   "version": "3.7.1"
  }
 },
 "nbformat": 4,
 "nbformat_minor": 2
}

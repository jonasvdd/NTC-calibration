{
 "cells": [
  {
   "cell_type": "markdown",
   "metadata": {},
   "source": [
    "# Analysis of thermistor calibration"
   ]
  },
  {
   "cell_type": "code",
   "execution_count": 4,
   "metadata": {},
   "outputs": [],
   "source": [
    "import sys\n",
    "sys.path.append('../')\n",
    "\n",
    "from SteinhartHart import SteinHart\n",
    "from formulas import Physical_Unit\n",
    "from physical_units import *\n",
    "\n",
    "import matplotlib\n",
    "%matplotlib inline\n",
    "\n",
    "import pandas as pd\n",
    "import numpy as np "
   ]
  },
  {
   "cell_type": "markdown",
   "metadata": {},
   "source": [
    "## 1. Retrieve the data\n",
    "\n",
    "3 measurements were performed.\n",
    "\n",
    "We will fetch the data and store it in [dataframes](https://pandas.pydata.org/pandas-docs/stable/generated/pandas.DataFrame.html)"
   ]
  },
  {
   "cell_type": "code",
   "execution_count": 8,
   "metadata": {},
   "outputs": [],
   "source": [
    "df_cold = pd.read_csv('../data/rev_csv_2018-11-27_10-35.csv')\n",
    "df_hot = pd.read_csv('../data/rev_csv_2018-11-27_11-02.csv')\n",
    "df_avg = pd.read_csv('../data/rev_csv_2018-11-20_11-18.csv')"
   ]
  },
  {
   "cell_type": "markdown",
   "metadata": {},
   "source": [
    "### 1.1 Analyse the data"
   ]
  },
  {
   "cell_type": "code",
   "execution_count": null,
   "metadata": {},
   "outputs": [],
   "source": []
  },
  {
   "cell_type": "markdown",
   "metadata": {},
   "source": [
    "## 2. Define The prediction intervals"
   ]
  },
  {
   "cell_type": "code",
   "execution_count": 6,
   "metadata": {},
   "outputs": [],
   "source": [
    "##################################\n",
    "#       Hyperparameters\n",
    "##################################\n",
    "min_temp = 10   # the  minimum temperature we will predict\n",
    "max_temp = 40   # the maximum temperature we will predict\n",
    "avg_temp = 26   # the average temperature we will predict\n",
    "\n",
    "fluctuation = 0.3\n",
    "precision_adc = 10"
   ]
  },
  {
   "cell_type": "markdown",
   "metadata": {},
   "source": [
    "## Define the accuracy\n"
   ]
  },
  {
   "cell_type": "code",
   "execution_count": null,
   "metadata": {},
   "outputs": [],
   "source": []
  },
  {
   "cell_type": "code",
   "execution_count": 7,
   "metadata": {},
   "outputs": [
    {
     "name": "stdout",
     "output_type": "stream",
     "text": [
      "minium precision: 0.029 degrees\n"
     ]
    }
   ],
   "source": [
    "print(\"minium precision:\", round((max_temp - min_temp)/(2**precision_adc), 3), \"degrees\")"
   ]
  },
  {
   "cell_type": "markdown",
   "metadata": {},
   "source": [
    "## Retrieve the data"
   ]
  },
  {
   "cell_type": "code",
   "execution_count": 4,
   "metadata": {},
   "outputs": [],
   "source": []
  },
  {
   "cell_type": "code",
   "execution_count": 4,
   "metadata": {},
   "outputs": [
    {
     "data": {
      "text/plain": [
       "<matplotlib.axes._subplots.AxesSubplot at 0x7ff1a0c41a20>"
      ]
     },
     "execution_count": 4,
     "metadata": {},
     "output_type": "execute_result"
    },
    {
     "data": {
      "image/png": "[encoded data removed]",
      "text/plain": [
       "<Figure size 1296x504 with 1 Axes>"
      ]
     },
     "metadata": {
      "needs_background": "light"
     },
     "output_type": "display_data"
    }
   ],
   "source": [
    "df_hot['Tprobe'].plot(figsize=(18, 7), c='g',)\n",
    "df_avg['Tprobe'].plot(figsize=(18, 7), c='b')\n",
    "df_cold['Tprobe'].plot(figsize=(18, 7), c='y')"
   ]
  },
  {
   "cell_type": "markdown",
   "metadata": {},
   "source": [
    "## Query the min max and average temperature to calculate the coefficients"
   ]
  },
  {
   "cell_type": "code",
   "execution_count": 5,
   "metadata": {},
   "outputs": [
    {
     "data": {
      "text/html": [
       "<div>\n",
       "<style scoped>\n",
       "    .dataframe tbody tr th:only-of-type {\n",
       "        vertical-align: middle;\n",
       "    }\n",
       "\n",
       "    .dataframe tbody tr th {\n",
       "        vertical-align: top;\n",
       "    }\n",
       "\n",
       "    .dataframe thead th {\n",
       "        text-align: right;\n",
       "    }\n",
       "</style>\n",
       "<table border=\"1\" class=\"dataframe\">\n",
       "  <thead>\n",
       "    <tr style=\"text-align: right;\">\n",
       "      <th></th>\n",
       "      <th>Unnamed: 0</th>\n",
       "      <th>RNTC</th>\n",
       "      <th>Tprobe</th>\n",
       "      <th>Tcalc</th>\n",
       "      <th>A</th>\n",
       "      <th>B</th>\n",
       "      <th>C</th>\n",
       "      <th>T1</th>\n",
       "      <th>R1</th>\n",
       "      <th>T2</th>\n",
       "      <th>R2</th>\n",
       "      <th>T3</th>\n",
       "      <th>R3</th>\n",
       "    </tr>\n",
       "  </thead>\n",
       "  <tbody>\n",
       "    <tr>\n",
       "      <th>5</th>\n",
       "      <td>5</td>\n",
       "      <td>92633.429395</td>\n",
       "      <td>9.859467</td>\n",
       "      <td>9.555594</td>\n",
       "      <td>-0.006903</td>\n",
       "      <td>0.001273</td>\n",
       "      <td>-0.000003</td>\n",
       "      <td>9.088684</td>\n",
       "      <td>95519.558824</td>\n",
       "      <td>12.28146</td>\n",
       "      <td>78797.142857</td>\n",
       "      <td>24.78897</td>\n",
       "      <td>45995.480769</td>\n",
       "    </tr>\n",
       "    <tr>\n",
       "      <th>25</th>\n",
       "      <td>25</td>\n",
       "      <td>94682.894737</td>\n",
       "      <td>9.873291</td>\n",
       "      <td>9.002135</td>\n",
       "      <td>-0.005254</td>\n",
       "      <td>0.001048</td>\n",
       "      <td>-0.000002</td>\n",
       "      <td>7.646210</td>\n",
       "      <td>103049.535604</td>\n",
       "      <td>12.28146</td>\n",
       "      <td>78797.142857</td>\n",
       "      <td>24.78897</td>\n",
       "      <td>45995.480769</td>\n",
       "    </tr>\n",
       "  </tbody>\n",
       "</table>\n",
       "</div>"
      ],
      "text/plain": [
       "    Unnamed: 0          RNTC    Tprobe     Tcalc         A         B  \\\n",
       "5            5  92633.429395  9.859467  9.555594 -0.006903  0.001273   \n",
       "25          25  94682.894737  9.873291  9.002135 -0.005254  0.001048   \n",
       "\n",
       "           C        T1             R1        T2            R2        T3  \\\n",
       "5  -0.000003  9.088684   95519.558824  12.28146  78797.142857  24.78897   \n",
       "25 -0.000002  7.646210  103049.535604  12.28146  78797.142857  24.78897   \n",
       "\n",
       "              R3  \n",
       "5   45995.480769  \n",
       "25  45995.480769  "
      ]
     },
     "execution_count": 5,
     "metadata": {},
     "output_type": "execute_result"
    }
   ],
   "source": [
    "df_cold.query(\" Tprobe < \" + str(min_temp) + \" + \" + str(fluctuation) + \" and Tprobe > \" + str(min_temp) + \" - \" + str(fluctuation)).head(2)"
   ]
  },
  {
   "cell_type": "code",
   "execution_count": 6,
   "metadata": {},
   "outputs": [
    {
     "data": {
      "text/html": [
       "<div>\n",
       "<style scoped>\n",
       "    .dataframe tbody tr th:only-of-type {\n",
       "        vertical-align: middle;\n",
       "    }\n",
       "\n",
       "    .dataframe tbody tr th {\n",
       "        vertical-align: top;\n",
       "    }\n",
       "\n",
       "    .dataframe thead th {\n",
       "        text-align: right;\n",
       "    }\n",
       "</style>\n",
       "<table border=\"1\" class=\"dataframe\">\n",
       "  <thead>\n",
       "    <tr style=\"text-align: right;\">\n",
       "      <th></th>\n",
       "      <th>Unnamed: 0</th>\n",
       "      <th>RNTC</th>\n",
       "      <th>Tprobe</th>\n",
       "      <th>Tcalc</th>\n",
       "      <th>A</th>\n",
       "      <th>B</th>\n",
       "      <th>C</th>\n",
       "      <th>T1</th>\n",
       "      <th>R1</th>\n",
       "      <th>T2</th>\n",
       "      <th>R2</th>\n",
       "      <th>T3</th>\n",
       "      <th>R3</th>\n",
       "    </tr>\n",
       "  </thead>\n",
       "  <tbody>\n",
       "    <tr>\n",
       "      <th>309</th>\n",
       "      <td>309</td>\n",
       "      <td>23050.362845</td>\n",
       "      <td>40.23434</td>\n",
       "      <td>39.756695</td>\n",
       "      <td>-0.000756</td>\n",
       "      <td>0.000467</td>\n",
       "      <td>-7.253362e-07</td>\n",
       "      <td>24.16681</td>\n",
       "      <td>47643.052838</td>\n",
       "      <td>50.23169</td>\n",
       "      <td>15378.39586</td>\n",
       "      <td>76.13272</td>\n",
       "      <td>6800.446927</td>\n",
       "    </tr>\n",
       "    <tr>\n",
       "      <th>310</th>\n",
       "      <td>310</td>\n",
       "      <td>23255.895197</td>\n",
       "      <td>40.23434</td>\n",
       "      <td>39.542279</td>\n",
       "      <td>-0.000756</td>\n",
       "      <td>0.000467</td>\n",
       "      <td>-7.253362e-07</td>\n",
       "      <td>24.16681</td>\n",
       "      <td>47643.052838</td>\n",
       "      <td>50.23169</td>\n",
       "      <td>15378.39586</td>\n",
       "      <td>76.13272</td>\n",
       "      <td>6800.446927</td>\n",
       "    </tr>\n",
       "  </tbody>\n",
       "</table>\n",
       "</div>"
      ],
      "text/plain": [
       "     Unnamed: 0          RNTC    Tprobe      Tcalc         A         B  \\\n",
       "309         309  23050.362845  40.23434  39.756695 -0.000756  0.000467   \n",
       "310         310  23255.895197  40.23434  39.542279 -0.000756  0.000467   \n",
       "\n",
       "                C        T1            R1        T2           R2        T3  \\\n",
       "309 -7.253362e-07  24.16681  47643.052838  50.23169  15378.39586  76.13272   \n",
       "310 -7.253362e-07  24.16681  47643.052838  50.23169  15378.39586  76.13272   \n",
       "\n",
       "              R3  \n",
       "309  6800.446927  \n",
       "310  6800.446927  "
      ]
     },
     "execution_count": 6,
     "metadata": {},
     "output_type": "execute_result"
    }
   ],
   "source": [
    "df_hot.query(\" Tprobe < \" + str(max_temp) + \" + \" + str(fluctuation) + \" and Tprobe > \" + str(max_temp) + \" - \" + str(fluctuation)).head(2)"
   ]
  },
  {
   "cell_type": "code",
   "execution_count": 7,
   "metadata": {},
   "outputs": [
    {
     "data": {
      "text/html": [
       "<div>\n",
       "<style scoped>\n",
       "    .dataframe tbody tr th:only-of-type {\n",
       "        vertical-align: middle;\n",
       "    }\n",
       "\n",
       "    .dataframe tbody tr th {\n",
       "        vertical-align: top;\n",
       "    }\n",
       "\n",
       "    .dataframe thead th {\n",
       "        text-align: right;\n",
       "    }\n",
       "</style>\n",
       "<table border=\"1\" class=\"dataframe\">\n",
       "  <thead>\n",
       "    <tr style=\"text-align: right;\">\n",
       "      <th></th>\n",
       "      <th>Unnamed: 0</th>\n",
       "      <th>RNTC</th>\n",
       "      <th>Tprobe</th>\n",
       "      <th>Tcalc</th>\n",
       "      <th>A</th>\n",
       "      <th>B</th>\n",
       "      <th>C</th>\n",
       "      <th>T1</th>\n",
       "      <th>R1</th>\n",
       "      <th>T2</th>\n",
       "      <th>R2</th>\n",
       "      <th>T3</th>\n",
       "      <th>R3</th>\n",
       "    </tr>\n",
       "  </thead>\n",
       "  <tbody>\n",
       "    <tr>\n",
       "      <th>0</th>\n",
       "      <td>0</td>\n",
       "      <td>43918.644068</td>\n",
       "      <td>25.89944</td>\n",
       "      <td>NaN</td>\n",
       "      <td>NaN</td>\n",
       "      <td>NaN</td>\n",
       "      <td>NaN</td>\n",
       "      <td>NaN</td>\n",
       "      <td>NaN</td>\n",
       "      <td>NaN</td>\n",
       "      <td>NaN</td>\n",
       "      <td>NaN</td>\n",
       "      <td>NaN</td>\n",
       "    </tr>\n",
       "    <tr>\n",
       "      <th>1</th>\n",
       "      <td>1</td>\n",
       "      <td>43918.644068</td>\n",
       "      <td>25.84610</td>\n",
       "      <td>NaN</td>\n",
       "      <td>NaN</td>\n",
       "      <td>NaN</td>\n",
       "      <td>NaN</td>\n",
       "      <td>NaN</td>\n",
       "      <td>NaN</td>\n",
       "      <td>NaN</td>\n",
       "      <td>NaN</td>\n",
       "      <td>NaN</td>\n",
       "      <td>NaN</td>\n",
       "    </tr>\n",
       "  </tbody>\n",
       "</table>\n",
       "</div>"
      ],
      "text/plain": [
       "   Unnamed: 0          RNTC    Tprobe  Tcalc   A   B   C  T1  R1  T2  R2  T3  \\\n",
       "0           0  43918.644068  25.89944    NaN NaN NaN NaN NaN NaN NaN NaN NaN   \n",
       "1           1  43918.644068  25.84610    NaN NaN NaN NaN NaN NaN NaN NaN NaN   \n",
       "\n",
       "   R3  \n",
       "0 NaN  \n",
       "1 NaN  "
      ]
     },
     "execution_count": 7,
     "metadata": {},
     "output_type": "execute_result"
    }
   ],
   "source": [
    "df_avg.query(\" Tprobe < \" + str(avg_temp) + \" + \" + str(fluctuation) + \" and Tprobe > \" + str(avg_temp) + \" - \" + str(fluctuation)).head(2)"
   ]
  },
  {
   "cell_type": "code",
   "execution_count": 8,
   "metadata": {},
   "outputs": [],
   "source": [
    "steinhart = SteinHart()\n",
    "steinhart.feed(T=9.873291, R=94682.894737)\n",
    "steinhart.feed(T=26.04834, R=43235.887850)\n",
    "steinhart.feed(T=40.23434, R=23050.362845)"
   ]
  },
  {
   "cell_type": "code",
   "execution_count": 13,
   "metadata": {},
   "outputs": [
    {
     "data": {
      "text/plain": [
       "<matplotlib.axes._subplots.AxesSubplot at 0x7ff19e9960b8>"
      ]
     },
     "execution_count": 13,
     "metadata": {},
     "output_type": "execute_result"
    },
    {
     "data": {
      "image/png": "[encoded data removed]",
      "text/plain": [
       "<Figure size 1296x720 with 1 Axes>"
      ]
     },
     "metadata": {
      "needs_background": "light"
     },
     "output_type": "display_data"
    }
   ],
   "source": [
    "plt_min_T = 10\n",
    "plt_max_T = 40\n",
    "\n",
    "df_pred = df_cold[df_cold['Tprobe'] >= plt_min_T]\n",
    "df_pred = df_pred.append(df_hot[df_hot['Tprobe'] <= plt_max_T], ignore_index=True)\n",
    "df_pred = df_pred.append(df_avg, ignore_index=True)\n",
    "df_pred = df_pred.sort_values('Tprobe').reset_index()\n",
    "\n",
    "# .query(\"Tprobe > \" + str(min_temp) + \" and Tprobe < \" + str(max_temp))\n",
    "df_pred['Tcalc'] = df_pred.apply(lambda r: steinhart.calculateT(r[\"RNTC\"]), axis=1)\n",
    "df_pred['Tcalc'].plot(figsize=(18, 10), legend=True)\n",
    "df_pred['Tprobe'].plot()"
   ]
  },
  {
   "cell_type": "code",
   "execution_count": null,
   "metadata": {},
   "outputs": [],
   "source": []
  }
 ],
 "metadata": {
  "kernelspec": {
   "display_name": "Python 3",
   "language": "python",
   "name": "python3"
  },
  "language_info": {
   "codemirror_mode": {
    "name": "ipython",
    "version": 3
   },
   "file_extension": ".py",
   "mimetype": "text/x-python",
   "name": "python",
   "nbconvert_exporter": "python",
   "pygments_lexer": "ipython3",
   "version": "3.7.0"
  }
 },
 "nbformat": 4,
 "nbformat_minor": 2
}
